{
 "cells": [
  {
   "cell_type": "markdown",
   "id": "political-granny",
   "metadata": {},
   "source": [
    "# GMODuck\n",
    "A genetically modified yellow qantum duck who is competing in QHack 2021 Open Hackathon. This duck is capable of building QML circuits using genetic programming without having any idea why his model works but he assures it's the best."
   ]
  },
  {
   "cell_type": "markdown",
   "id": "adjacent-american",
   "metadata": {},
   "source": [
    "## Setup"
   ]
  },
  {
   "cell_type": "code",
   "execution_count": 1,
   "id": "varied-reliance",
   "metadata": {},
   "outputs": [
    {
     "name": "stdout",
     "output_type": "stream",
     "text": [
      "3.8.5 (default, Sep  4 2020, 02:22:02) \n",
      "[Clang 10.0.0 ]\n"
     ]
    }
   ],
   "source": [
    "import sys\n",
    "print (sys.version)"
   ]
  },
  {
   "cell_type": "code",
   "execution_count": 2,
   "id": "norman-policy",
   "metadata": {},
   "outputs": [],
   "source": [
    "%%capture\n",
    "\n",
    "# Comment this out if you don't want to install pennylane from this notebook\n",
    "!pip install pennylane\n",
    "\n",
    "# Comment this out if you don't want to install matplotlib from this notebook\n",
    "!pip install matplotlib\n",
    "\n",
    "# Comment this out if you don't want to install sklearn from this notebook\n",
    "!pip install sklearn"
   ]
  },
  {
   "cell_type": "code",
   "execution_count": 3,
   "id": "advance-character",
   "metadata": {},
   "outputs": [],
   "source": [
    "# Imports\n",
    "import random\n",
    "import pennylane as qml\n",
    "from pennylane import numpy as np\n",
    "import matplotlib.pyplot as plt\n",
    "from sklearn.model_selection import train_test_split\n",
    "from sklearn import metrics as metrics\n",
    "\n",
    "np.random.seed(42)"
   ]
  },
  {
   "cell_type": "code",
   "execution_count": 4,
   "id": "consolidated-semester",
   "metadata": {},
   "outputs": [],
   "source": [
    "dev = qml.device('default.qubit', wires=2)"
   ]
  },
  {
   "cell_type": "markdown",
   "id": "identified-significance",
   "metadata": {},
   "source": [
    "## Data"
   ]
  },
  {
   "cell_type": "code",
   "execution_count": 5,
   "id": "harmful-commonwealth",
   "metadata": {
    "scrolled": true
   },
   "outputs": [
    {
     "data": {
      "image/png": "[encoded data removed]",
      "text/plain": [
       "<Figure size 432x288 with 1 Axes>"
      ]
     },
     "metadata": {
      "needs_background": "light"
     },
     "output_type": "display_data"
    }
   ],
   "source": [
    "# This Data example is copied from the CERN workshop\n",
    "n_samples = 200\n",
    "X0 = np.array([[np.random.normal(loc=-1, scale=1), \n",
    "                np.random.normal(loc=1, scale=1)] for i in range(n_samples//2)]) \n",
    "X1 = np.array([[np.random.normal(loc=1, scale=1), \n",
    "                np.random.normal(loc=-1, scale=1)] for i in range(n_samples//2)]) \n",
    "X = np.concatenate([X0, X1], axis=0)\n",
    "Y = np.concatenate([-np.ones(int(n_samples/2)), np.ones(int(n_samples/2))], axis=0)\n",
    "data = list(zip(X, Y))\n",
    "\n",
    "plt.scatter(X0[:,0], X0[:,1])\n",
    "plt.scatter(X1[:,0], X1[:,1])\n",
    "plt.show()\n",
    "\n",
    "# Split Data\n",
    "X_train, X_test, y_train, y_test = train_test_split(X, Y, test_size=0.30, random_state=1)\n",
    "data_train = list(zip(X_train, y_train))\n",
    "data_test  = list(zip(X_test, y_test))"
   ]
  },
  {
   "cell_type": "code",
   "execution_count": 6,
   "id": "front-boston",
   "metadata": {},
   "outputs": [],
   "source": [
    "# Init conditions\n",
    "#in_str = None\n",
    "#in_str_len = None\n",
    "in_str = '01011011'\n",
    "in_str_len = len(in_str)\n",
    "population = 6\n",
    "generations = 25\n",
    "threshold = 0.96"
   ]
  },
  {
   "cell_type": "markdown",
   "id": "adopted-subcommittee",
   "metadata": {},
   "source": [
    "## Quantum model"
   ]
  },
  {
   "cell_type": "code",
   "execution_count": 7,
   "id": "monthly-harvest",
   "metadata": {},
   "outputs": [],
   "source": [
    "# Build a quantum model\n",
    "\n",
    "genome = \"01011011\"\n",
    "@qml.qnode(dev)\n",
    "def quantum_model(x,w):\n",
    "    # Encoding\n",
    "    encode_gene = genome[:2]\n",
    "    if encode_gene == \"00\" or \"11\":\n",
    "        qml.templates.AngleEmbedding(x, wires=[0, 1])\n",
    "    elif encode_gene == \"01\":\n",
    "        qml.templates.AmplitudeEmbedding(x, wires=[0, 1],pad=1,normalize=True)\n",
    "    elif encode_gene == \"10\":\n",
    "        qml.templates.IQPEmbedding(x, wires=[0, 1])\n",
    "    \n",
    "    RZ_gene = genome[2:4]\n",
    "    if RZ_gene == \"01\":\n",
    "        qml.RZ(0.1,wires=0)\n",
    "    elif RZ_gene == \"10\":\n",
    "        qml.RZ(0.1,wires=1)\n",
    "    elif RZ_gene == \"11\":\n",
    "        qml.RZ(0.1,wires=0)\n",
    "        qml.RZ(0.1,wires=1)\n",
    "    \n",
    "    Entanglement_gene = genome[4:5]\n",
    "    if Entanglement_gene == \"1\":\n",
    "        qml.templates.BasicEntanglerLayers(w, wires=[0, 1])\n",
    "\n",
    "    T_gene = genome[5:7]\n",
    "    if T_gene == \"01\":\n",
    "        qml.T(wires=0)\n",
    "    elif T_gene == \"10\":\n",
    "        qml.T(wires=1)\n",
    "    elif T_gene == \"11\":\n",
    "        qml.T(wires=0)\n",
    "        qml.T(wires=1)\n",
    "\n",
    "    CNOT_gene = genome[7:8]\n",
    "    if Entanglement_gene == \"1\":\n",
    "        qml.CNOT(wires=[0,1])\n",
    "        \n",
    "    return qml.expval(qml.PauliZ(wires=0))\n"
   ]
  },
  {
   "cell_type": "code",
   "execution_count": 8,
   "id": "requested-origin",
   "metadata": {},
   "outputs": [
    {
     "name": "stdout",
     "output_type": "stream",
     "text": [
      "1.0640670810829451\n",
      "0.9319343105413028\n",
      "0.8553870501458555\n",
      "0.7661233123854125\n",
      "0.6624063966576083\n",
      "0.5659858962164276\n",
      "0.4967868926883953\n",
      "0.4563237341052468\n",
      "0.43465505866269927\n",
      "0.4226753950519475\n",
      "0.4153887915525575\n",
      "0.41051299000055\n",
      "0.4070180437252484\n",
      "0.40439690194013883\n",
      "0.40236888329265624\n"
     ]
    }
   ],
   "source": [
    "# Cost function\n",
    "def loss(a, b):\n",
    "    return (a - b)**2\n",
    "\n",
    "def average_loss(w, data):\n",
    "    c = 0\n",
    "    for x, y in data:\n",
    "        prediction = quantum_model(x, w)\n",
    "        c += loss(prediction, y)\n",
    "    return c/len(data)\n",
    "\n",
    "# Gradient\n",
    "gradient_fn = qml.grad(average_loss, argnum=0)\n",
    "\n",
    "# Trainning\n",
    "w_init = np.array([[1.1, -2], [2, -1], [-2, 1]])\n",
    "\n",
    "w = np.array(w_init)\n",
    "\n",
    "history = []\n",
    "loss_train = []\n",
    "loss_test = []\n",
    "\n",
    "for i in range(15):\n",
    "    w_new = w - 0.3*gradient_fn(w, data_train)\n",
    "    avg_loss = average_loss(w_new, data_train)\n",
    "    loss_train.append(avg_loss)\n",
    "    print(avg_loss)\n",
    "    history.append(w_new)\n",
    "    w = w_new\n",
    "    \n",
    "    avg_loss_test = average_loss(w_new, data_test)\n",
    "    loss_test.append(avg_loss_test)"
   ]
  },
  {
   "cell_type": "code",
   "execution_count": 9,
   "id": "surprised-poison",
   "metadata": {},
   "outputs": [
    {
     "data": {
      "text/plain": [
       "<matplotlib.legend.Legend at 0x7ff67e57f580>"
      ]
     },
     "execution_count": 9,
     "metadata": {},
     "output_type": "execute_result"
    },
    {
     "data": {
      "image/png": "[encoded data removed]",
      "text/plain": [
       "<Figure size 432x288 with 1 Axes>"
      ]
     },
     "metadata": {
      "needs_background": "light"
     },
     "output_type": "display_data"
    }
   ],
   "source": [
    "plt.plot(loss_train, label=\"train\")\n",
    "plt.plot(loss_test, label=\"test\")\n",
    "plt.legend(loc=\"upper right\")"
   ]
  },
  {
   "cell_type": "code",
   "execution_count": 10,
   "id": "korean-desperate",
   "metadata": {},
   "outputs": [],
   "source": [
    "def avail(w):\n",
    "    count = 0\n",
    "    for x, y in data:\n",
    "        prediction = quantum_model(x, w)\n",
    "        #print(\"pred: \",prediction,\"; y   : \", y)\n",
    "        if(prediction < 0):\n",
    "            prediction = -1\n",
    "        else:\n",
    "            prediction = 1\n",
    "        if prediction != y:\n",
    "           count += 1\n",
    "    print(count)\n",
    "    \n",
    "def pred(w,X):\n",
    "    y_pred = []\n",
    "    for x in X:\n",
    "        prediction = quantum_model(x, w)\n",
    "        y_pred.append(prediction)\n",
    "        \n",
    "    return y_pred"
   ]
  },
  {
   "cell_type": "code",
   "execution_count": 11,
   "id": "variable-needle",
   "metadata": {},
   "outputs": [
    {
     "data": {
      "text/plain": [
       "<matplotlib.legend.Legend at 0x7ff67e581880>"
      ]
     },
     "execution_count": 11,
     "metadata": {},
     "output_type": "execute_result"
    },
    {
     "data": {
      "image/png": "[encoded data removed]",
      "text/plain": [
       "<Figure size 432x288 with 1 Axes>"
      ]
     },
     "metadata": {
      "needs_background": "light"
     },
     "output_type": "display_data"
    }
   ],
   "source": [
    "y_pred_train = pred(w,X_train)\n",
    "y_pred_test  = pred(w,X_test)\n",
    "\n",
    "fpr_train, tpr_train, thresholds_train = metrics.roc_curve(y_train, y_pred_train)\n",
    "fpr, tpr, thresholds = metrics.roc_curve(y_test, y_pred_test)\n",
    "\n",
    "roc_auc_train = metrics.auc(fpr_train,tpr_train)\n",
    "roc_auc = metrics.auc(fpr,tpr)\n",
    "\n",
    "plt.plot(fpr_train,tpr_train, label='AUC_train = %0.3f' % (roc_auc_train))\n",
    "plt.plot(fpr,tpr, label='AUC_test = %0.3f' % (roc_auc))\n",
    "plt.legend(loc=\"lower right\")"
   ]
  },
  {
   "cell_type": "code",
   "execution_count": 12,
   "id": "optional-rugby",
   "metadata": {},
   "outputs": [
    {
     "name": "stdout",
     "output_type": "stream",
     "text": [
      " 0: ──RX(1.2)───RZ(0.1)──RX(0.732)──╭C──RX(0.445)──╭C──RX(-2.37)──╭C──T──╭C──┤ ⟨Z⟩ \n",
      " 1: ──RX(-1.6)──RX(-2)──────────────╰X──RX(-1)─────╰X──RX(1)──────╰X─────╰X──┤     \n",
      "\n"
     ]
    }
   ],
   "source": [
    "print(quantum_model.draw())"
   ]
  },
  {
   "cell_type": "code",
   "execution_count": null,
   "id": "hired-castle",
   "metadata": {},
   "outputs": [],
   "source": []
  },
  {
   "cell_type": "code",
   "execution_count": null,
   "id": "indie-humanitarian",
   "metadata": {},
   "outputs": [],
   "source": []
  },
  {
   "cell_type": "code",
   "execution_count": null,
   "id": "intellectual-alberta",
   "metadata": {},
   "outputs": [],
   "source": []
  },
  {
   "cell_type": "code",
   "execution_count": 13,
   "id": "accredited-landing",
   "metadata": {},
   "outputs": [
    {
     "name": "stdout",
     "output_type": "stream",
     "text": [
      "🦆 Qhack Qhack\n"
     ]
    }
   ],
   "source": [
    "print(\"\\U0001F986 Qhack Qhack\") "
   ]
  },
  {
   "cell_type": "code",
   "execution_count": null,
   "id": "romantic-conducting",
   "metadata": {},
   "outputs": [],
   "source": []
  }
 ],
 "metadata": {
  "kernelspec": {
   "display_name": "Python 3",
   "language": "python",
   "name": "python3"
  },
  "language_info": {
   "codemirror_mode": {
    "name": "ipython",
    "version": 3
   },
   "file_extension": ".py",
   "mimetype": "text/x-python",
   "name": "python",
   "nbconvert_exporter": "python",
   "pygments_lexer": "ipython3",
   "version": "3.8.5"
  }
 },
 "nbformat": 4,
 "nbformat_minor": 5
}
