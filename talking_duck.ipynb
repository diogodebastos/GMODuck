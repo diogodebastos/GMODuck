{
 "cells": [
  {
   "cell_type": "markdown",
   "id": "characteristic-investment",
   "metadata": {},
   "source": [
    "# GMODuck\n",
    "A genetically modified yellow qantum duck who is competing in QHack 2021 Open Hackathon. This duck is capable of building QML circuits using genetic programming without having any idea why his model works but he assures it's the best."
   ]
  },
  {
   "cell_type": "markdown",
   "id": "olive-mexico",
   "metadata": {},
   "source": [
    "## Setup"
   ]
  },
  {
   "cell_type": "code",
   "execution_count": 1,
   "id": "golden-alpha",
   "metadata": {},
   "outputs": [
    {
     "name": "stdout",
     "output_type": "stream",
     "text": [
      "3.8.5 (default, Sep  4 2020, 02:22:02) \n",
      "[Clang 10.0.0 ]\n"
     ]
    }
   ],
   "source": [
    "import sys\n",
    "print (sys.version)"
   ]
  },
  {
   "cell_type": "code",
   "execution_count": 2,
   "id": "bound-hearts",
   "metadata": {},
   "outputs": [],
   "source": [
    "%%capture\n",
    "\n",
    "# Comment this out if you don't want to install pennylane from this notebook\n",
    "!pip install pennylane\n",
    "\n",
    "# Comment this out if you don't want to install matplotlib from this notebook\n",
    "!pip install matplotlib\n",
    "\n",
    "# Comment this out if you don't want to install sklearn from this notebook\n",
    "!pip install sklearn"
   ]
  },
  {
   "cell_type": "code",
   "execution_count": 3,
   "id": "stuck-basis",
   "metadata": {},
   "outputs": [],
   "source": [
    "# Imports\n",
    "import random\n",
    "import pennylane as qml\n",
    "from pennylane import numpy as np\n",
    "import matplotlib.pyplot as plt\n",
    "from sklearn.model_selection import train_test_split\n",
    "from sklearn import metrics as metrics\n",
    "\n",
    "np.random.seed(42)"
   ]
  },
  {
   "cell_type": "code",
   "execution_count": 4,
   "id": "micro-polymer",
   "metadata": {},
   "outputs": [],
   "source": [
    "dev = qml.device('default.qubit', wires=2)"
   ]
  },
  {
   "cell_type": "markdown",
   "id": "fitted-friendship",
   "metadata": {},
   "source": [
    "## Data"
   ]
  },
  {
   "cell_type": "code",
   "execution_count": 5,
   "id": "painful-lucas",
   "metadata": {
    "scrolled": true
   },
   "outputs": [
    {
     "data": {
      "image/png": "[encoded data removed]",
      "text/plain": [
       "<Figure size 432x288 with 1 Axes>"
      ]
     },
     "metadata": {
      "needs_background": "light"
     },
     "output_type": "display_data"
    }
   ],
   "source": [
    "# This Data example is copied from the CERN workshop\n",
    "n_samples = 300\n",
    "X0 = np.array([[np.random.normal(loc=-1, scale=1), \n",
    "                np.random.normal(loc=1, scale=1)] for i in range(n_samples//2)]) \n",
    "X1 = np.array([[np.random.normal(loc=1, scale=1), \n",
    "                np.random.normal(loc=-1, scale=1)] for i in range(n_samples//2)]) \n",
    "X = np.concatenate([X0, X1], axis=0)\n",
    "Y = np.concatenate([-np.ones(int(n_samples/2)), np.ones(int(n_samples/2))], axis=0)\n",
    "data = list(zip(X, Y))\n",
    "\n",
    "plt.scatter(X0[:,0], X0[:,1])\n",
    "plt.scatter(X1[:,0], X1[:,1])\n",
    "plt.show()\n",
    "\n",
    "# Split Data\n",
    "X_train, X_test, y_train, y_test = train_test_split(X, Y, test_size=0.30, random_state=1)\n",
    "data_train = list(zip(X_train, y_train))\n",
    "data_test  = list(zip(X_test, y_test))"
   ]
  },
  {
   "cell_type": "code",
   "execution_count": 6,
   "id": "guided-involvement",
   "metadata": {},
   "outputs": [],
   "source": [
    "# Init conditions\n",
    "#in_str = None\n",
    "#in_str_len = None\n",
    "in_str = '01011011'\n",
    "in_str_len = len(in_str)\n",
    "population = 8\n",
    "generations = 5\n",
    "threshold = 0.95"
   ]
  },
  {
   "cell_type": "markdown",
   "id": "interim-portsmouth",
   "metadata": {},
   "source": [
    "## Agents to evolve "
   ]
  },
  {
   "cell_type": "code",
   "execution_count": 7,
   "id": "restricted-timothy",
   "metadata": {},
   "outputs": [],
   "source": [
    "class Agent:\n",
    "    def __init__(self, length):\n",
    "        self.string = ''.join(str(random.randint(0,1)) for _ in range(length))\n",
    "        self.fitness = -1\n",
    "\n",
    "    def __str__(self):\n",
    "        return 'String: ' + str(self.string) + ' Fitness: ' + str(self.fitness)"
   ]
  },
  {
   "cell_type": "code",
   "execution_count": 8,
   "id": "demanding-synthetic",
   "metadata": {},
   "outputs": [],
   "source": [
    "def ga():\n",
    "    agents = init_agents(population, in_str_len)\n",
    "    \n",
    "    for generation in range(generations):\n",
    "        print(\"Generation: \", str(generation))\n",
    "        \n",
    "        agents = fitness(agents)\n",
    "        agents = selection(agents)\n",
    "        agents = crossover(agents)\n",
    "        agents = mutation(agents)\n",
    "        \n",
    "        if any(agent.fitness >= threshold for agent in agents):\n",
    "            print(\"Thereshold has been met! Winning genome: \", agent.string)"
   ]
  },
  {
   "cell_type": "code",
   "execution_count": 9,
   "id": "decent-verification",
   "metadata": {},
   "outputs": [],
   "source": [
    "def init_agents(population, length):\n",
    "    return [Agent(length) for _ in range(population)]"
   ]
  },
  {
   "cell_type": "markdown",
   "id": "dressed-heaven",
   "metadata": {},
   "source": [
    "## Fitness and definition of Quantum Model"
   ]
  },
  {
   "cell_type": "code",
   "execution_count": 10,
   "id": "interracial-cambodia",
   "metadata": {},
   "outputs": [],
   "source": [
    "def fitness(agents):\n",
    "    for agent in agents:\n",
    "        global genome\n",
    "        genome = agent.string\n",
    "        \n",
    "        # Build a quantum model\n",
    "        @qml.qnode(dev)\n",
    "        def quantum_model(x,w):\n",
    "            # Encoding\n",
    "            encode_gene = genome[:2]\n",
    "            if encode_gene == \"00\" or \"11\":\n",
    "                qml.templates.AngleEmbedding(x, wires=[0, 1])\n",
    "            elif encode_gene == \"01\":\n",
    "                qml.templates.AmplitudeEmbedding(x, wires=[0, 1],pad=1,normalize=True)\n",
    "            elif encode_gene == \"10\":\n",
    "                qml.templates.IQPEmbedding(x, wires=[0, 1])\n",
    "\n",
    "            RZ_gene = genome[2:4]\n",
    "            if RZ_gene == \"01\":\n",
    "                qml.RZ(0.1,wires=0)\n",
    "            elif RZ_gene == \"10\":\n",
    "                qml.RZ(0.1,wires=1)\n",
    "            elif RZ_gene == \"11\":\n",
    "                qml.RZ(0.1,wires=0)\n",
    "                qml.RZ(0.1,wires=1)\n",
    "\n",
    "            Entanglement_gene = genome[4:5]\n",
    "            if Entanglement_gene == \"1\" or \"0\": #Forcing entanglement\n",
    "                qml.templates.BasicEntanglerLayers(w, wires=[0, 1])\n",
    "\n",
    "            T_gene = genome[5:7]\n",
    "            if T_gene == \"01\":\n",
    "                qml.T(wires=0)\n",
    "            elif T_gene == \"10\":\n",
    "                qml.T(wires=1)\n",
    "            elif T_gene == \"11\":\n",
    "                qml.T(wires=0)\n",
    "                qml.T(wires=1)\n",
    "\n",
    "            CNOT_gene = genome[7:8]\n",
    "            if Entanglement_gene == \"1\":\n",
    "                qml.CNOT(wires=[0,1])\n",
    "\n",
    "            return qml.expval(qml.PauliZ(wires=0))\n",
    "      \n",
    "        # Cost function\n",
    "        def loss(a, b):\n",
    "            return (a - b)**2\n",
    "\n",
    "        def average_loss(w, data):\n",
    "            c = 0\n",
    "            for x, y in data:\n",
    "                prediction = quantum_model(x, w)\n",
    "                c += loss(prediction, y)\n",
    "            return c/len(data)\n",
    "\n",
    "        # Gradient\n",
    "        gradient_fn = qml.grad(average_loss, argnum=0)\n",
    "\n",
    "        # Trainning\n",
    "        w_init = np.array([[1.1, -2], [2, -1], [-2, 1]])\n",
    "\n",
    "        w = np.array(w_init)\n",
    "\n",
    "        history = []\n",
    "\n",
    "        for i in range(20):\n",
    "            w_new = w - 0.3*gradient_fn(w, data_train)\n",
    "            avg_loss = average_loss(w_new, data_train)\n",
    "            history.append(w_new)\n",
    "            w = w_new\n",
    "\n",
    "        def pred(w,X):\n",
    "            y_pred = []\n",
    "            for x in X:\n",
    "                prediction = quantum_model(x, w)\n",
    "                y_pred.append(prediction)\n",
    "            return y_pred\n",
    "\n",
    "        y_pred_train = pred(w,X_train)\n",
    "        y_pred_test  = pred(w,X_test)\n",
    "        fpr_train, tpr_train, thresholds_train = metrics.roc_curve(y_train, y_pred_train)\n",
    "        fpr, tpr, thresholds = metrics.roc_curve(y_test, y_pred_test)\n",
    "\n",
    "        roc_auc_train = metrics.auc(fpr_train,tpr_train)\n",
    "        roc_auc = metrics.auc(fpr,tpr)\n",
    "        \n",
    "        agent.fitness = roc_auc\n",
    "    return agents"
   ]
  },
  {
   "cell_type": "markdown",
   "id": "southwest-playback",
   "metadata": {},
   "source": [
    "## Selection"
   ]
  },
  {
   "cell_type": "code",
   "execution_count": 11,
   "id": "mediterranean-gibraltar",
   "metadata": {},
   "outputs": [],
   "source": [
    "def selection(agents):\n",
    "    agents = sorted(agents, key=lambda agent: agent.fitness, reverse=True)\n",
    "    print('\\n '.join(map(str, agents)))\n",
    "\n",
    "    # Natural selection\n",
    "    kill_param = 0.2 # take the top 20% of the individuals\n",
    "    agents = agents[:int(kill_param * len(agents))]\n",
    "    return agents"
   ]
  },
  {
   "cell_type": "markdown",
   "id": "formal-referral",
   "metadata": {},
   "source": [
    "## Cross over"
   ]
  },
  {
   "cell_type": "code",
   "execution_count": 12,
   "id": "approved-semiconductor",
   "metadata": {},
   "outputs": [],
   "source": [
    "def crossover(agents):\n",
    "    offspring = []\n",
    "\n",
    "    for _ in range( int((population - len(agents))/2)):\n",
    "        # TODO: don't breed parents that are the same\n",
    "        parent1 = random.choice(agents)\n",
    "        parent2 = random.choice(agents)\n",
    "\n",
    "        child1 = Agent(in_str_len)\n",
    "        child2 = Agent(in_str_len)\n",
    "        split = random.randint(0,in_str_len)\n",
    "        child1.string = parent1.string[0:split] + parent2.string[split:in_str_len]\n",
    "        child2.string = parent2.string[0:split] + parent1.string[split:in_str_len]\n",
    "\n",
    "        offspring.append(child1)\n",
    "        offspring.append(child2)\n",
    "\n",
    "    agents.extend(offspring)\n",
    "    return agents"
   ]
  },
  {
   "cell_type": "markdown",
   "id": "controversial-network",
   "metadata": {},
   "source": [
    "## Mutation"
   ]
  },
  {
   "cell_type": "code",
   "execution_count": 13,
   "id": "senior-particular",
   "metadata": {},
   "outputs": [],
   "source": [
    "def mutation(agents):\n",
    "    chance_of_mutation = 0.20\n",
    "    for agent in agents:\n",
    "        for idx, param in enumerate(agent.string):\n",
    "            if random.uniform(0.0,1.0) <= chance_of_mutation:\n",
    "                agent.string = agent.string[0:idx] + str(random.randint(0,1)) + agent.string[idx+1:in_str_len]\n",
    "    return agents"
   ]
  },
  {
   "cell_type": "markdown",
   "id": "printable-celebrity",
   "metadata": {},
   "source": [
    "## Run the genetic algorithm "
   ]
  },
  {
   "cell_type": "code",
   "execution_count": 14,
   "id": "known-dealer",
   "metadata": {},
   "outputs": [
    {
     "name": "stdout",
     "output_type": "stream",
     "text": [
      "Generation:  0\n",
      "String: 10000111 Fitness: 0.9119247897080653\n",
      " String: 10011111 Fitness: 0.9119247897080653\n",
      " String: 01101010 Fitness: 0.9074715487382484\n",
      " String: 00110010 Fitness: 0.9074715487382484\n",
      " String: 11111011 Fitness: 0.9074715487382484\n",
      " String: 00110010 Fitness: 0.9074715487382484\n",
      " String: 10110100 Fitness: 0.9074715487382484\n",
      " String: 10111000 Fitness: 0.9074715487382484\n",
      "Generation:  1\n",
      "String: 00000111 Fitness: 0.9119247897080653\n",
      " String: 00000111 Fitness: 0.9119247897080653\n",
      " String: 10000101 Fitness: 0.9119247897080653\n",
      " String: 10000111 Fitness: 0.9119247897080653\n",
      " String: 10000111 Fitness: 0.9119247897080653\n",
      " String: 10000001 Fitness: 0.9119247897080653\n",
      " String: 10000110 Fitness: 0.9119247897080653\n",
      "Generation:  2\n",
      "String: 00000001 Fitness: 0.9119247897080653\n",
      " String: 00000011 Fitness: 0.9119247897080653\n",
      " String: 10000111 Fitness: 0.9119247897080653\n",
      " String: 00000111 Fitness: 0.9119247897080653\n",
      " String: 00000101 Fitness: 0.9119247897080653\n",
      " String: 00001111 Fitness: 0.9119247897080653\n",
      " String: 00000111 Fitness: 0.9119247897080653\n",
      "Generation:  3\n",
      "String: 00010001 Fitness: 0.9119247897080653\n",
      " String: 10000001 Fitness: 0.9119247897080653\n",
      " String: 00010001 Fitness: 0.9119247897080653\n",
      " String: 01000001 Fitness: 0.9119247897080653\n",
      " String: 00000001 Fitness: 0.9119247897080653\n",
      " String: 00000001 Fitness: 0.9119247897080653\n",
      " String: 00000000 Fitness: 0.9119247897080653\n",
      "Generation:  4\n",
      "String: 00010001 Fitness: 0.9119247897080653\n",
      " String: 00010011 Fitness: 0.9119247897080653\n",
      " String: 00010001 Fitness: 0.9119247897080653\n",
      " String: 00010001 Fitness: 0.9119247897080653\n",
      " String: 00011001 Fitness: 0.9119247897080653\n",
      " String: 10010011 Fitness: 0.9119247897080653\n",
      " String: 00110001 Fitness: 0.9074715487382484\n"
     ]
    }
   ],
   "source": [
    "ga()"
   ]
  },
  {
   "cell_type": "code",
   "execution_count": 15,
   "id": "regulation-reply",
   "metadata": {},
   "outputs": [
    {
     "name": "stdout",
     "output_type": "stream",
     "text": [
      "🦆 Qhack Qhack\n"
     ]
    }
   ],
   "source": [
    "print(\"\\U0001F986 Qhack Qhack\") "
   ]
  }
 ],
 "metadata": {
  "kernelspec": {
   "display_name": "Python 3",
   "language": "python",
   "name": "python3"
  },
  "language_info": {
   "codemirror_mode": {
    "name": "ipython",
    "version": 3
   },
   "file_extension": ".py",
   "mimetype": "text/x-python",
   "name": "python",
   "nbconvert_exporter": "python",
   "pygments_lexer": "ipython3",
   "version": "3.8.5"
  }
 },
 "nbformat": 4,
 "nbformat_minor": 5
}
