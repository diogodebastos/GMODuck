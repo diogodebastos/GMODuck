{
 "cells": [
  {
   "cell_type": "markdown",
   "id": "characteristic-investment",
   "metadata": {},
   "source": [
    "# GMODuck\n",
    "A genetically modified yellow quantum duck who is competing in QHack 2021 Open Hackathon. This 🦆 is capable of building QML circuits using genetic programming without having any idea why his model works but he assures it's the best."
   ]
  },
  {
   "cell_type": "markdown",
   "id": "union-venice",
   "metadata": {},
   "source": [
    "In a QML application, knowing what's the best Quantum circuit is a field of research. With this demo, 🦆 wants to jump that process and build a quantum circuit that successfully is the best one for its problem. At the moment, is problem is: properly classify a point in a 2D grid as either <span style=\"color:blue\">blue</span> or <span style=\"color:orange\">orange</span> based on a given dataset.\n",
    "\n",
    "To to so, 🦆 is going to use genetic programming. Where the idea is to encode a quantum circuit in a string of zeros and ones that will represent the genome we want to evolve. So...\n",
    "\n",
    "1. Create a genome that translates into a quantum circuit - different genes, encode different gates/templates\n",
    "2. Randomly generate agents (agents are quantum circuits)\n",
    "3. Train all agents and use area under ROC as fitness\n",
    "4. Do \"natural selection\", cross between agents to create offspring and randomly mutate agents\n",
    "5. Repeat for some generations until 🦆 has a satisfying classifier"
   ]
  },
  {
   "cell_type": "markdown",
   "id": "olive-mexico",
   "metadata": {},
   "source": [
    "First things first: let's install and import everything we need..."
   ]
  },
  {
   "cell_type": "code",
   "execution_count": 1,
   "id": "bound-hearts",
   "metadata": {},
   "outputs": [],
   "source": [
    "%%capture\n",
    "!pip install pennylane\n",
    "!pip install matplotlib\n",
    "!pip install sklearn\n",
    "\n",
    "# Imports\n",
    "import random\n",
    "import pennylane as qml\n",
    "from pennylane import numpy as np\n",
    "import matplotlib.pyplot as plt\n",
    "from sklearn.model_selection import train_test_split\n",
    "from sklearn import metrics as metrics\n",
    "\n",
    "np.random.seed(42)\n",
    "\n",
    "dev = qml.device('default.qubit', wires=2)"
   ]
  },
  {
   "cell_type": "markdown",
   "id": "inner-security",
   "metadata": {},
   "source": [
    "Before looking into the code, let's vizualise what this _encode a quantum circuit in a string of zeros and ones_ really means.\n",
    "\n",
    "We want to have a bit in the string that represents the **encoding** of data, another one or the **circuit** we are trainning and a last one for the **measurment**. So, something like this:"
   ]
  },
  {
   "cell_type": "code",
   "execution_count": 2,
   "id": "olympic-passport",
   "metadata": {},
   "outputs": [
    {
     "name": "stdout",
     "output_type": "stream",
     "text": [
      "Encoding: 1 \n",
      "Circuit: 0 \n",
      "Measurement: 1\n"
     ]
    }
   ],
   "source": [
    "genome = \"101\"\n",
    "encoding_gene = genome[0]\n",
    "circuit_gene  = genome[1]\n",
    "measurment_gene  = genome[2]\n",
    "print(\"Encoding:\", encoding_gene, \"\\nCircuit:\", circuit_gene, \"\\nMeasurement:\", measurment_gene)"
   ]
  },
  {
   "cell_type": "markdown",
   "id": "waiting-twins",
   "metadata": {},
   "source": [
    "Now that we have the idea of what each gene in the genome represents, we can attribute functions to them. So, we want to look at a string, the genome, and transform it into a quantum circuit. Let's build that function!"
   ]
  },
  {
   "cell_type": "code",
   "execution_count": 3,
   "id": "micro-polymer",
   "metadata": {},
   "outputs": [],
   "source": [
    "def genome_to_circuit(genome, x, w):\n",
    "    @qml.qnode(dev)\n",
    "    def circuit(x,w):\n",
    "        # Genes from genome\n",
    "        encoding_gene = genome[0]\n",
    "        circuit_gene  = genome[1]\n",
    "        measurment_gene  = genome[2]\n",
    "        \n",
    "        # From gene, to quantum gate\n",
    "        ## Encode data\n",
    "        if encoding_gene == \"0\":\n",
    "            qml.templates.AngleEmbedding(x, wires=[0, 1])\n",
    "        elif encoding_gene == \"1\":\n",
    "            qml.templates.IQPEmbedding(x, wires=[0, 1])\n",
    "        \n",
    "        ## Choose between basic entanglement and a more \"complex\" circuit with qubit Z, X rotationsa and CNOT operator\n",
    "        if circuit_gene == \"0\":\n",
    "            qml.templates.BasicEntanglerLayers(w, wires=[0, 1])\n",
    "        elif circuit_gene == \"1\":\n",
    "            qml.RZ(w[0][0],wires=0)\n",
    "            qml.RX(w[0][1],wires=1)\n",
    "            qml.CNOT(wires=[0,1])\n",
    "            qml.RZ(-1*w[0][0],wires=1)\n",
    "            qml.RX(-1*w[0][1],wires=0)\n",
    "        \n",
    "        ## Measurement\n",
    "        if measurment_gene == \"0\":\n",
    "            measure = qml.PauliZ(wires=0)\n",
    "        elif measurment_gene == \"1\":\n",
    "            measure = qml.PauliY(wires=0)\n",
    "        return qml.expval(measure)\n",
    "\n",
    "    circuit(x,w)\n",
    "    print(circuit.draw())\n",
    "    return circuit(x,w)"
   ]
  },
  {
   "cell_type": "code",
   "execution_count": 4,
   "id": "following-faculty",
   "metadata": {},
   "outputs": [
    {
     "name": "stdout",
     "output_type": "stream",
     "text": [
      " 0: ──H──RZ(0.1)──╭RZ(0.02)──RX(-2.1)──╭C──┤ ⟨Y⟩ \n",
      " 1: ──H──RZ(0.2)──╰RZ(0.02)──RX(1.2)───╰X──┤     \n",
      "\n"
     ]
    },
    {
     "data": {
      "text/plain": [
       "tensor(-0.05282549, requires_grad=True)"
      ]
     },
     "execution_count": 4,
     "metadata": {},
     "output_type": "execute_result"
    }
   ],
   "source": [
    "# Some intial parameters to test quantum model\n",
    "x = np.array([0.1, 0.2], requires_grad=False)\n",
    "w = np.array([[-2.1, 1.2]])\n",
    "\n",
    "genome_to_circuit(genome, x, w)"
   ]
  },
  {
   "cell_type": "markdown",
   "id": "casual-timer",
   "metadata": {},
   "source": [
    "You can now test different genomes!"
   ]
  },
  {
   "cell_type": "code",
   "execution_count": 5,
   "id": "serial-reverse",
   "metadata": {},
   "outputs": [
    {
     "name": "stdout",
     "output_type": "stream",
     "text": [
      " 0: ──RX(0.1)──RZ(-2.1)──╭C──RX(-1.2)──┤ ⟨Z⟩ \n",
      " 1: ──RX(0.2)──RX(1.2)───╰X──RZ(2.1)───┤     \n",
      "\n"
     ]
    },
    {
     "data": {
      "text/plain": [
       "tensor(0.36054748, requires_grad=True)"
      ]
     },
     "execution_count": 5,
     "metadata": {},
     "output_type": "execute_result"
    }
   ],
   "source": [
    "genome = \"010\"\n",
    "genome_to_circuit(genome, x, w)"
   ]
  },
  {
   "cell_type": "markdown",
   "id": "convenient-linux",
   "metadata": {},
   "source": [
    "Now that we understood the core idea, we want to build quantum models from different _strings of zeros and ones_ (genome), evaluate the performance of each one and take advantage of genetic algorithms to cross between them, mutate , apply natural selection and hopefully, after some generations have our best model to solve our classification problem."
   ]
  },
  {
   "cell_type": "markdown",
   "id": "fitted-friendship",
   "metadata": {},
   "source": [
    "## Data"
   ]
  },
  {
   "cell_type": "markdown",
   "id": "equal-kingdom",
   "metadata": {},
   "source": [
    "Let's see what's our dataset... Oh! It's <span style=\"color:blue\">blue</span> and <span style=\"color:orange\">orange</span> points as promised!"
   ]
  },
  {
   "cell_type": "code",
   "execution_count": 6,
   "id": "painful-lucas",
   "metadata": {
    "scrolled": true
   },
   "outputs": [
    {
     "data": {
      "image/png": "[encoded data removed]",
      "text/plain": [
       "<Figure size 432x288 with 1 Axes>"
      ]
     },
     "metadata": {
      "needs_background": "light"
     },
     "output_type": "display_data"
    }
   ],
   "source": [
    "# This Data example is copied from the CERN workshop: https://indico.cern.ch/event/893116/\n",
    "\n",
    "# You can change this parameters\n",
    "n_samples = 100\n",
    "X0 = np.array([[np.random.normal(loc=-1, scale=1), \n",
    "                np.random.normal(loc=1, scale=1)] for i in range(n_samples//2)]) \n",
    "X1 = np.array([[np.random.normal(loc=1, scale=1), \n",
    "                np.random.normal(loc=-1, scale=1)] for i in range(n_samples//2)]) \n",
    "X = np.concatenate([X0, X1], axis=0)\n",
    "Y = np.concatenate([-np.ones(int(n_samples/2)), np.ones(int(n_samples/2))], axis=0)\n",
    "data = list(zip(X, Y))\n",
    "\n",
    "plt.scatter(X0[:,0], X0[:,1])\n",
    "plt.scatter(X1[:,0], X1[:,1])\n",
    "plt.show()\n",
    "\n",
    "# Split Data in train and test\n",
    "X_train, X_test, y_train, y_test = train_test_split(X, Y, test_size=0.30, random_state=1)\n",
    "data_train = list(zip(X_train, y_train))\n",
    "data_test  = list(zip(X_test, y_test))"
   ]
  },
  {
   "cell_type": "markdown",
   "id": "interim-portsmouth",
   "metadata": {},
   "source": [
    "## Genetic Algorithm: Agents to evolve "
   ]
  },
  {
   "cell_type": "markdown",
   "id": "novel-linux",
   "metadata": {},
   "source": [
    "Now we build our Genetics part"
   ]
  },
  {
   "cell_type": "code",
   "execution_count": 7,
   "id": "guided-involvement",
   "metadata": {},
   "outputs": [],
   "source": [
    "# Init conditions\n",
    "genome_type = '0101101101'\n",
    "in_str_len = len(genome_type)\n",
    "\n",
    "# You can tune this parameters\n",
    "population = 6\n",
    "generations = 9\n",
    "threshold = 0.97"
   ]
  },
  {
   "cell_type": "markdown",
   "id": "geological-shepherd",
   "metadata": {},
   "source": [
    "Let's create a class for the agents we want to evolve. We need 2 things in our agent: **genome** and **fitness**. The genome is going to be randomly generated each time an agent is created."
   ]
  },
  {
   "cell_type": "code",
   "execution_count": 8,
   "id": "restricted-timothy",
   "metadata": {},
   "outputs": [],
   "source": [
    "class Agent:\n",
    "    def __init__(self, length):\n",
    "        self.string = ''.join(str(random.randint(0,1)) for _ in range(length))\n",
    "        self.fitness = -1\n",
    "\n",
    "    def __str__(self):\n",
    "        return ' String: ' + str(self.string) + ' Fitness: ' + str(self.fitness)"
   ]
  },
  {
   "cell_type": "markdown",
   "id": "minus-cyprus",
   "metadata": {},
   "source": [
    "1. Create a population of agents\n",
    "2. Evaluate the fitness of each one\n",
    "3. Select between the best agents\n",
    "4. Breed between them\n",
    "5. Random mutate genes of the genome of the agent"
   ]
  },
  {
   "cell_type": "code",
   "execution_count": 9,
   "id": "demanding-synthetic",
   "metadata": {},
   "outputs": [],
   "source": [
    "def ga():\n",
    "    agents = init_agents(population, in_str_len)\n",
    "    \n",
    "    for generation in range(generations):\n",
    "        print(\"Generation: \", str(generation))\n",
    "        \n",
    "        agents = fitness(agents)\n",
    "        agents = selection(agents)\n",
    "        agents = crossover(agents)\n",
    "        agents = mutation(agents)\n",
    "        \n",
    "        if any(agent.fitness >= threshold for agent in agents):\n",
    "            print(\"\\U0001F986 Thereshold has been met! Winning genome: \", agents[0].string)\n",
    "            x = np.array([0.1, 0.2], requires_grad=False)\n",
    "            w = np.array([[1.1, -2], [2, -1], [-2, 1]])\n",
    "            a_more_complicated_genome_to_circuit(agents[0].string, x, w, True)\n",
    "            break"
   ]
  },
  {
   "cell_type": "markdown",
   "id": "declared-future",
   "metadata": {},
   "source": [
    "## Create a population of agents"
   ]
  },
  {
   "cell_type": "code",
   "execution_count": 10,
   "id": "decent-verification",
   "metadata": {},
   "outputs": [],
   "source": [
    "def init_agents(population, length):\n",
    "    return [Agent(length) for _ in range(population)]"
   ]
  },
  {
   "cell_type": "markdown",
   "id": "dressed-heaven",
   "metadata": {},
   "source": [
    "## Fitness and definition of Quantum Model"
   ]
  },
  {
   "cell_type": "markdown",
   "id": "faced-orbit",
   "metadata": {},
   "source": [
    "This is the part where we build our quantum model from a gene, train it and evaluate it based on the area under the ROC. This value is going to correspond to the fitness of the agent."
   ]
  },
  {
   "cell_type": "code",
   "execution_count": 11,
   "id": "verified-halloween",
   "metadata": {},
   "outputs": [],
   "source": [
    "def a_more_complicated_genome_to_circuit(genome, x, w, verbose):\n",
    "    @qml.qnode(dev)\n",
    "    def circuit(x,w):\n",
    "        # Encoding\n",
    "        encode_gene = genome[:2]\n",
    "        if encode_gene == \"00\":\n",
    "            qml.templates.AngleEmbedding(x, wires=[0, 1])\n",
    "        elif encode_gene == \"01\":\n",
    "            qml.templates.AmplitudeEmbedding(x, wires=[0, 1],pad=1,normalize=True)\n",
    "        elif encode_gene == \"10\" or \"11\":\n",
    "            qml.templates.IQPEmbedding(x, wires=[0, 1])\n",
    "\n",
    "        RZ_gene = genome[2:4]\n",
    "        if RZ_gene == \"01\":\n",
    "            qml.RZ(0.1,wires=0)\n",
    "        elif RZ_gene == \"10\":\n",
    "            qml.RZ(0.1,wires=1)\n",
    "        elif RZ_gene == \"11\":\n",
    "            qml.RZ(0.1,wires=0)\n",
    "            qml.RZ(0.1,wires=1)\n",
    "\n",
    "        Entanglement_gene = genome[4:5]\n",
    "        if Entanglement_gene == \"0\":\n",
    "            qml.templates.BasicEntanglerLayers(w, wires=[0, 1])\n",
    "        elif Entanglement_gene == \"1\":\n",
    "            qml.RZ(w[0][0],wires=0)\n",
    "            qml.RX(w[0][1],wires=1)\n",
    "            qml.CNOT(wires=[0,1])\n",
    "            qml.RZ(-1*w[1][0],wires=1)\n",
    "            qml.RX(-1*w[1][1],wires=0)\n",
    "            qml.CNOT(wires=[0,1])\n",
    "            qml.RY(w[2][0],wires=0)\n",
    "            qml.RX(-1*w[2][1],wires=1)\n",
    "\n",
    "        T_gene = genome[5:7]\n",
    "        if T_gene == \"01\":\n",
    "            qml.T(wires=0)\n",
    "        elif T_gene == \"10\":\n",
    "            qml.T(wires=1)\n",
    "        elif T_gene == \"11\":\n",
    "            qml.T(wires=0)\n",
    "            qml.T(wires=1)\n",
    "\n",
    "        CNOT_gene = genome[7:8]\n",
    "        if CNOT_gene == \"1\":\n",
    "            qml.CNOT(wires=[0,1])\n",
    "\n",
    "        measurment_gene = genome[8:10]\n",
    "        if measurment_gene == \"00\" or \"11\":\n",
    "            measure = qml.PauliZ(wires=0)\n",
    "        elif measurment_gene == \"01\":\n",
    "            measure = qml.PauliY(wires=0)\n",
    "        elif measurment_gene == \"10\":\n",
    "            measure = qml.PauliX(wires=0)\n",
    "                \n",
    "        return qml.expval(measure)\n",
    "    \n",
    "    circuit(x,w)\n",
    "    \n",
    "    if verbose:\n",
    "        print(circuit.draw())\n",
    "    else:\n",
    "        return circuit(x,w)"
   ]
  },
  {
   "cell_type": "markdown",
   "id": "ancient-feeling",
   "metadata": {},
   "source": [
    "To better understand the training part with plots and validation, check the `one_quantum_model.ipynb` jupyter notebook in the same repo."
   ]
  },
  {
   "cell_type": "code",
   "execution_count": 12,
   "id": "interracial-cambodia",
   "metadata": {},
   "outputs": [],
   "source": [
    "def fitness(agents):\n",
    "    for agent in agents:\n",
    "        global genome\n",
    "        genome = agent.string\n",
    "      \n",
    "        # Cost function\n",
    "        def loss(a, b):\n",
    "            return (a - b)**2\n",
    "\n",
    "        def average_loss(w, data):\n",
    "            c = 0\n",
    "            for x, y in data:\n",
    "                #prediction = quantum_model(x, w)\n",
    "                prediction = a_more_complicated_genome_to_circuit(genome, x, w, False)\n",
    "                c += loss(prediction, y)\n",
    "            return c/len(data)\n",
    "\n",
    "        # Gradient\n",
    "        gradient_fn = qml.grad(average_loss, argnum=0)\n",
    "\n",
    "        # Trainning\n",
    "        w_init = np.array([[1.1, -2], [2, -1], [-2, 1]])\n",
    "\n",
    "        w = np.array(w_init)\n",
    "\n",
    "        history = []\n",
    "\n",
    "        # You can tune this parameter\n",
    "        for i in range(5):\n",
    "            w_new = w - 0.3*gradient_fn(w, data_train)\n",
    "            avg_loss = average_loss(w_new, data_train)\n",
    "            history.append(w_new)\n",
    "            w = w_new\n",
    "\n",
    "        def pred(w,X):\n",
    "            y_pred = []\n",
    "            for x in X:\n",
    "                #prediction = quantum_model(x, w)\n",
    "                prediction = a_more_complicated_genome_to_circuit(genome, x, w, False)\n",
    "                y_pred.append(prediction)\n",
    "            return y_pred\n",
    "\n",
    "        y_pred_train = pred(w,X_train)\n",
    "        y_pred_test  = pred(w,X_test)\n",
    "        fpr_train, tpr_train, thresholds_train = metrics.roc_curve(y_train, y_pred_train)\n",
    "        fpr, tpr, thresholds = metrics.roc_curve(y_test, y_pred_test)\n",
    "\n",
    "        roc_auc_train = metrics.auc(fpr_train,tpr_train)\n",
    "        roc_auc = metrics.auc(fpr,tpr)\n",
    "        \n",
    "        agent.fitness = roc_auc\n",
    "    return agents"
   ]
  },
  {
   "cell_type": "markdown",
   "id": "rolled-duncan",
   "metadata": {},
   "source": [
    "## Selection"
   ]
  },
  {
   "cell_type": "code",
   "execution_count": 13,
   "id": "noted-thread",
   "metadata": {},
   "outputs": [],
   "source": [
    "def selection(agents):\n",
    "    agents = sorted(agents, key=lambda agent: agent.fitness, reverse=True)\n",
    "    print('\\n'.join(map(str, agents)))\n",
    "\n",
    "    # Natural selection\n",
    "    kill_param = 0.2 # take the top 20% of the individuals\n",
    "    agents = agents[:int(kill_param * len(agents))]\n",
    "    return agents"
   ]
  },
  {
   "cell_type": "markdown",
   "id": "graphic-student",
   "metadata": {},
   "source": [
    "## Cross over"
   ]
  },
  {
   "cell_type": "code",
   "execution_count": 14,
   "id": "regulated-approach",
   "metadata": {},
   "outputs": [],
   "source": [
    "def crossover(agents):\n",
    "    offspring = []\n",
    "\n",
    "    for _ in range( int((population - len(agents))/2)):\n",
    "        # TODO: don't breed parents that are the same\n",
    "        parent1 = random.choice(agents)\n",
    "        parent2 = random.choice(agents)\n",
    "\n",
    "        child1 = Agent(in_str_len)\n",
    "        child2 = Agent(in_str_len)\n",
    "        split = random.randint(0,in_str_len)\n",
    "        child1.string = parent1.string[0:split] + parent2.string[split:in_str_len]\n",
    "        child2.string = parent2.string[0:split] + parent1.string[split:in_str_len]\n",
    "\n",
    "        offspring.append(child1)\n",
    "        offspring.append(child2)\n",
    "\n",
    "    agents.extend(offspring)\n",
    "    return agents"
   ]
  },
  {
   "cell_type": "markdown",
   "id": "tamil-politics",
   "metadata": {},
   "source": [
    "## Mutation"
   ]
  },
  {
   "cell_type": "code",
   "execution_count": 15,
   "id": "speaking-trial",
   "metadata": {},
   "outputs": [],
   "source": [
    "def mutation(agents):\n",
    "    chance_of_mutation = 0.20\n",
    "    for agent in agents:\n",
    "        for idx, param in enumerate(agent.string):\n",
    "            if random.uniform(0.0,1.0) <= chance_of_mutation:\n",
    "                agent.string = agent.string[0:idx] + str(random.randint(0,1)) + agent.string[idx+1:in_str_len]\n",
    "    return agents"
   ]
  },
  {
   "cell_type": "markdown",
   "id": "determined-stevens",
   "metadata": {},
   "source": [
    "## Run the genetic algorithm "
   ]
  },
  {
   "cell_type": "code",
   "execution_count": 16,
   "id": "known-dealer",
   "metadata": {},
   "outputs": [
    {
     "name": "stdout",
     "output_type": "stream",
     "text": [
      "Generation:  0\n",
      " String: 0000011011 Fitness: 0.9196428571428572\n",
      " String: 1110011001 Fitness: 0.8125\n",
      " String: 1000010100 Fitness: 0.8125\n",
      " String: 1111010010 Fitness: 0.7946428571428571\n",
      " String: 0111011000 Fitness: 0.75\n",
      " String: 0110010101 Fitness: 0.7232142857142857\n",
      "Generation:  1\n",
      " String: 0000111010 Fitness: 0.9285714285714286\n",
      " String: 0000011011 Fitness: 0.9196428571428572\n",
      " String: 0000011011 Fitness: 0.9196428571428572\n",
      " String: 0000011011 Fitness: 0.9196428571428572\n",
      " String: 0010011011 Fitness: 0.9017857142857142\n",
      "Generation:  2\n",
      " String: 0010111110 Fitness: 0.9330357142857143\n",
      " String: 0000111010 Fitness: 0.9285714285714286\n",
      " String: 0000111010 Fitness: 0.9285714285714286\n",
      " String: 0000111010 Fitness: 0.9285714285714286\n",
      " String: 0000011010 Fitness: 0.9196428571428572\n",
      "Generation:  3\n",
      " String: 0110111110 Fitness: 0.9821428571428572\n",
      " String: 0010111110 Fitness: 0.9330357142857143\n",
      " String: 0010111110 Fitness: 0.9330357142857143\n",
      " String: 0010111111 Fitness: 0.9330357142857143\n",
      " String: 0011011111 Fitness: 0.9017857142857142\n",
      "🦆 Thereshold has been met! Winning genome:  0110110110\n",
      " 0: ──╭QubitStateVector(M0)──RZ(1.1)──────────╭C──RX(1)───╭C──RY(-2)─────╭C──┤ ⟨Z⟩ \n",
      " 1: ──╰QubitStateVector(M0)──RZ(0.1)──RX(-2)──╰X──RZ(-2)──╰X──RX(-1)──T──╰X──┤     \n",
      "M0 =\n",
      "[0.06984303 0.13968606 0.6984303  0.6984303 ]\n",
      "\n"
     ]
    }
   ],
   "source": [
    "ga()"
   ]
  },
  {
   "cell_type": "code",
   "execution_count": 17,
   "id": "regulation-reply",
   "metadata": {},
   "outputs": [
    {
     "name": "stdout",
     "output_type": "stream",
     "text": [
      "🦆 Qhack Qhack\n"
     ]
    }
   ],
   "source": [
    "print(\"\\U0001F986 Qhack Qhack\") "
   ]
  }
 ],
 "metadata": {
  "kernelspec": {
   "display_name": "Python 3",
   "language": "python",
   "name": "python3"
  },
  "language_info": {
   "codemirror_mode": {
    "name": "ipython",
    "version": 3
   },
   "file_extension": ".py",
   "mimetype": "text/x-python",
   "name": "python",
   "nbconvert_exporter": "python",
   "pygments_lexer": "ipython3",
   "version": "3.8.5"
  }
 },
 "nbformat": 4,
 "nbformat_minor": 5
}
